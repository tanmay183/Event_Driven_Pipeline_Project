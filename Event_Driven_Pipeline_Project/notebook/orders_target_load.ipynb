{
 "cells": [
  {
   "cell_type": "code",
   "execution_count": 0,
   "metadata": {
    "application/vnd.databricks.v1+cell": {
     "cellMetadata": {},
     "inputWidgets": {},
     "nuid": "fe90fe3a-90b8-4a5e-9497-45812c9dccd7",
     "showTitle": false,
     "tableResultSettingsMap": {},
     "title": ""
    }
   },
   "outputs": [],
   "source": [
    "from delta.tables import *\n",
    "\n",
    "stage_table_name = \"incremental_load.default.orders_stage\"\n",
    "target_table_name = \"incremental_load.default.orders_target\""
   ]
  },
  {
   "cell_type": "code",
   "execution_count": 0,
   "metadata": {
    "application/vnd.databricks.v1+cell": {
     "cellMetadata": {},
     "inputWidgets": {},
     "nuid": "21981b8a-ac83-4e9f-9344-08189ca836e7",
     "showTitle": false,
     "tableResultSettingsMap": {},
     "title": ""
    }
   },
   "outputs": [],
   "source": [
    "# Read the data from the stage table\n",
    "stage_df = spark.read.table(stage_table_name)"
   ]
  },
  {
   "cell_type": "code",
   "execution_count": 0,
   "metadata": {
    "application/vnd.databricks.v1+cell": {
     "cellMetadata": {},
     "inputWidgets": {},
     "nuid": "13f7d227-ddf3-4afe-beba-e44adb9fbbb8",
     "showTitle": false,
     "tableResultSettingsMap": {},
     "title": ""
    }
   },
   "outputs": [],
   "source": [
    "# Create equivalent target table schema if target table doesn't exist\n",
    "\n",
    "if not spark._jsparkSession.catalog().tableExists(target_table_name):\n",
    "    stage_df.write.format(\"delta\").saveAsTable(target_table_name)\n",
    "    \n",
    "else:\n",
    "    # Perform delta table merge query for upsert based on tracking_num column\n",
    "    target_table = DeltaTable.forName(spark, target_table_name)\n",
    "\n",
    "    # Define the merge condition based on the tracking_num column\n",
    "    merge_condition = \"stage.tracking_num = target.tracking_num\"\n",
    "\n",
    "    # Execute the merge operation\n",
    "    target_table.alias(\"target\") \\\n",
    "        .merge(stage_df.alias(\"stage\"), merge_condition) \\\n",
    "        .whenMatchedDelete() \\\n",
    "        .execute()\n",
    "\n",
    "    stage_df.write.format(\"delta\").mode(\"append\").saveAsTable(target_table_name)"
   ]
  }
 ],
 "metadata": {
  "application/vnd.databricks.v1+notebook": {
   "computePreferences": null,
   "dashboards": [],
   "environmentMetadata": {
    "base_environment": "",
    "client": "1"
   },
   "language": "python",
   "notebookMetadata": {
    "pythonIndentUnit": 4
   },
   "notebookName": "orders_target_load",
   "widgets": {}
  },
  "language_info": {
   "name": "python"
  }
 },
 "nbformat": 4,
 "nbformat_minor": 0
}